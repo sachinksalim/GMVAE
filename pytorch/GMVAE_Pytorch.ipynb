{
  "cells": [
    {
      "cell_type": "markdown",
      "metadata": {
        "id": "rGzTb0oswH5J"
      },
      "source": [
        "## Import Libraries"
      ]
    },
    {
      "cell_type": "code",
      "execution_count": 1,
      "metadata": {
        "id": "ThVeaB3CwI4j"
      },
      "outputs": [],
      "source": [
        "import numpy as np\n",
        "import argparse\n",
        "import random\n",
        "from torchvision import datasets, transforms\n",
        "from torch.utils.data.sampler import SubsetRandomSampler\n",
        "import torch.utils.data\n",
        "from scipy.io import loadmat\n",
        "from model.GMVAE import *\n",
        "import matplotlib.pyplot as plt"
      ]
    },
    {
      "cell_type": "code",
      "execution_count": null,
      "metadata": {},
      "outputs": [],
      "source": [
        "import numpy as np\n",
        "import argparse\n",
        "import random\n",
        "from torchvision import datasets, transforms\n",
        "from torch.utils.data.sampler import SubsetRandomSampler\n",
        "import torch.utils.data\n",
        "from scipy.io import loadmat\n",
        "from model.GMVAE import *\n",
        "import matplotlib.pyplot as plt"
      ]
    },
    {
      "cell_type": "markdown",
      "metadata": {
        "id": "3QNKItMHwQU2"
      },
      "source": [
        "## Input Parameters"
      ]
    },
    {
      "cell_type": "code",
      "execution_count": 2,
      "metadata": {
        "id": "8tBHkTQ4wVIG"
      },
      "outputs": [],
      "source": [
        "#########################################################\n",
        "## Input Parameters\n",
        "#########################################################\n",
        "parser = argparse.ArgumentParser(description='PyTorch Implementation of DGM Clustering')\n",
        "\n",
        "## Used only in notebooks\n",
        "parser.add_argument('-f', '--file',\n",
        "                    help='Path for input file. First line should contain number of lines to search in')\n",
        "\n",
        "## Dataset\n",
        "parser.add_argument('--dataset', type=str, choices=['mnist'],\n",
        "                    default='mnist', help='dataset (default: mnist)')\n",
        "parser.add_argument('--seed', type=int, default=1, help='random seed (default: 1)')\n",
        "\n",
        "## GPU\n",
        "parser.add_argument('--cuda', type=int, default=1,\n",
        "                    help='use of cuda (default: 1)')\n",
        "parser.add_argument('--gpuID', type=int, default=0,\n",
        "                    help='set gpu id to use (default: 0)')\n",
        "\n",
        "## Training\n",
        "parser.add_argument('--epochs', type=int, default=100,\n",
        "                    help='number of total epochs to run (default: 200)')\n",
        "parser.add_argument('--batch_size', default=64, type=int,\n",
        "                    help='mini-batch size (default: 64)')\n",
        "parser.add_argument('--batch_size_val', default=200, type=int,\n",
        "                    help='mini-batch size of validation (default: 200)')\n",
        "parser.add_argument('--learning_rate', default=1e-3, type=float,\n",
        "                    help='learning rate (default: 0.001)')\n",
        "parser.add_argument('--decay_epoch', default=-1, type=int,\n",
        "                    help='Reduces the learning rate every decay_epoch')\n",
        "parser.add_argument('--lr_decay', default=0.5, type=float,\n",
        "                    help='Learning rate decay for training (default: 0.5)')\n",
        "\n",
        "## Architecture\n",
        "parser.add_argument('--num_classes', type=int, default=10,\n",
        "                    help='number of classes (default: 10)')\n",
        "parser.add_argument('--gaussian_size', default=64, type=int,\n",
        "                    help='gaussian size (default: 64)')\n",
        "parser.add_argument('--input_size', default=784, type=int,\n",
        "                    help='input size (default: 784)')\n",
        "\n",
        "## Partition parameters\n",
        "parser.add_argument('--train_proportion', default=1.0, type=float,\n",
        "                    help='proportion of examples to consider for training only (default: 1.0)')\n",
        "\n",
        "## Gumbel parameters\n",
        "parser.add_argument('--init_temp', default=1.0, type=float,\n",
        "                    help='Initial temperature used in gumbel-softmax (recommended 0.5-1.0, default:1.0)')\n",
        "parser.add_argument('--decay_temp', default=1, type=int,\n",
        "                    help='Set 1 to decay gumbel temperature at every epoch (default: 1)')\n",
        "parser.add_argument('--hard_gumbel', default=0, type=int,\n",
        "                    help='Set 1 to use the hard version of gumbel-softmax (default: 1)')\n",
        "parser.add_argument('--min_temp', default=0.5, type=float,\n",
        "                    help='Minimum temperature of gumbel-softmax after annealing (default: 0.5)' )\n",
        "parser.add_argument('--decay_temp_rate', default=0.013862944, type=float,\n",
        "                    help='Temperature decay rate at every epoch (default: 0.013862944)')\n",
        "\n",
        "## Loss function parameters\n",
        "parser.add_argument('--w_gauss', default=2, type=float,\n",
        "                    help='weight of gaussian loss (default: 1)')\n",
        "parser.add_argument('--w_categ', default=1, type=float,\n",
        "                    help='weight of categorical loss (default: 1)')\n",
        "parser.add_argument('--w_rec', default=1, type=float,\n",
        "                    help='weight of reconstruction loss (default: 1)')\n",
        "parser.add_argument('--rec_type', type=str, choices=['bce', 'mse'],\n",
        "                    default='bce', help='desired reconstruction loss function (default: bce)')\n",
        "\n",
        "## Others\n",
        "parser.add_argument('--verbose', default=0, type=int,\n",
        "                    help='print extra information at every epoch.(default: 0)')\n",
        "\n",
        "args = parser.parse_args()"
      ]
    },
    {
      "cell_type": "markdown",
      "metadata": {
        "id": "Bti6lPHawc9z"
      },
      "source": [
        "Set random seed in case it was specified in the parameters\n"
      ]
    },
    {
      "cell_type": "code",
      "execution_count": 3,
      "metadata": {
        "id": "IpWPxTy1wgbJ"
      },
      "outputs": [],
      "source": [
        "## Random Seed\n",
        "SEED = args.seed\n",
        "np.random.seed(SEED)\n",
        "random.seed(SEED)\n",
        "torch.manual_seed(SEED)\n",
        "if args.cuda:\n",
        "  torch.cuda.manual_seed(SEED)"
      ]
    },
    {
      "cell_type": "markdown",
      "metadata": {
        "id": "lx729Gd8whg3"
      },
      "source": [
        "## MNIST Dataset"
      ]
    },
    {
      "cell_type": "markdown",
      "metadata": {
        "id": "h4ewFwVyYdoH"
      },
      "source": [
        "The MNIST dataset consists of 70000 handwritten digits of 28×28 pixel size and 10 classes, of which 60000 images are considered for training and 10000 images for testing. This dataset can be obtained directly from the [torchvision](https://pytorch.org/docs/stable/torchvision/datasets.html) framework."
      ]
    },
    {
      "cell_type": "code",
      "execution_count": 4,
      "metadata": {
        "colab": {
          "base_uri": "https://localhost:8080/",
          "height": 52
        },
        "id": "8tWeDE6JNzxw",
        "outputId": "1306f933-02bc-451a-ae2a-562a670da7e3"
      },
      "outputs": [
        {
          "name": "stderr",
          "output_type": "stream",
          "text": [
            "26.8%"
          ]
        },
        {
          "name": "stdout",
          "output_type": "stream",
          "text": [
            "Loading mnist dataset...\n",
            "Downloading http://yann.lecun.com/exdb/mnist/train-images-idx3-ubyte.gz\n",
            "Downloading http://yann.lecun.com/exdb/mnist/train-images-idx3-ubyte.gz to ./mnist/MNIST/raw/train-images-idx3-ubyte.gz\n"
          ]
        },
        {
          "name": "stderr",
          "output_type": "stream",
          "text": [
            "66.8%"
          ]
        },
        {
          "name": "stderr",
          "output_type": "stream",
          "text": [
            "100.0%\n"
          ]
        },
        {
          "name": "stdout",
          "output_type": "stream",
          "text": [
            "Extracting ./mnist/MNIST/raw/train-images-idx3-ubyte.gz to ./mnist/MNIST/raw\n"
          ]
        },
        {
          "name": "stderr",
          "output_type": "stream",
          "text": [
            "100.0%\n",
            "35.8%"
          ]
        },
        {
          "name": "stdout",
          "output_type": "stream",
          "text": [
            "\n",
            "Downloading http://yann.lecun.com/exdb/mnist/train-labels-idx1-ubyte.gz\n",
            "Downloading http://yann.lecun.com/exdb/mnist/train-labels-idx1-ubyte.gz to ./mnist/MNIST/raw/train-labels-idx1-ubyte.gz\n",
            "Extracting ./mnist/MNIST/raw/train-labels-idx1-ubyte.gz to ./mnist/MNIST/raw\n",
            "\n",
            "Downloading http://yann.lecun.com/exdb/mnist/t10k-images-idx3-ubyte.gz\n",
            "Downloading http://yann.lecun.com/exdb/mnist/t10k-images-idx3-ubyte.gz to ./mnist/MNIST/raw/t10k-images-idx3-ubyte.gz\n"
          ]
        },
        {
          "name": "stderr",
          "output_type": "stream",
          "text": [
            "100.0%\n"
          ]
        },
        {
          "name": "stdout",
          "output_type": "stream",
          "text": [
            "Extracting ./mnist/MNIST/raw/t10k-images-idx3-ubyte.gz to ./mnist/MNIST/raw\n",
            "\n",
            "Downloading http://yann.lecun.com/exdb/mnist/t10k-labels-idx1-ubyte.gz\n",
            "Downloading http://yann.lecun.com/exdb/mnist/t10k-labels-idx1-ubyte.gz to ./mnist/MNIST/raw/t10k-labels-idx1-ubyte.gz\n"
          ]
        },
        {
          "name": "stderr",
          "output_type": "stream",
          "text": [
            "100.0%\n"
          ]
        },
        {
          "name": "stdout",
          "output_type": "stream",
          "text": [
            "Extracting ./mnist/MNIST/raw/t10k-labels-idx1-ubyte.gz to ./mnist/MNIST/raw\n",
            "\n",
            "Train size:  60000  Test size:  10000\n"
          ]
        }
      ],
      "source": [
        "print(\"Loading mnist dataset...\")\n",
        "\n",
        "# load mnist data\n",
        "train_dataset = datasets.MNIST('./mnist', train=True, download=True, transform=transforms.ToTensor())\n",
        "test_dataset = datasets.MNIST('./mnist', train=False, transform=transforms.ToTensor())\n",
        "\n",
        "# print dataset shape\n",
        "print('Train size: ', len(train_dataset), ' Test size: ', len(test_dataset))"
      ]
    },
    {
      "cell_type": "markdown",
      "metadata": {
        "id": "fmrkmhttwkiD"
      },
      "source": [
        "## Data Partition"
      ]
    },
    {
      "cell_type": "markdown",
      "metadata": {
        "id": "fUuTFMBhb2vZ"
      },
      "source": [
        "We split the training data into train and validation according to the *train_proportion* parameter:"
      ]
    },
    {
      "cell_type": "code",
      "execution_count": 5,
      "metadata": {
        "id": "P8F6pjC7cNX7"
      },
      "outputs": [],
      "source": [
        "def partition_dataset(n, proportion=0.8):\n",
        "  train_num = int(n * proportion)\n",
        "  indices = np.random.permutation(n)\n",
        "  train_indices, val_indices = indices[:train_num], indices[train_num:]\n",
        "  return train_indices, val_indices\n",
        "\n",
        "if args.train_proportion == 1.0:\n",
        "  # we use all train dataset without partitioning\n",
        "  train_loader = torch.utils.data.DataLoader(train_dataset, batch_size=args.batch_size, shuffle=True)\n",
        "  test_loader = torch.utils.data.DataLoader(test_dataset, batch_size=args.batch_size_val, shuffle=False)\n",
        "  val_loader = test_loader\n",
        "else:\n",
        "  # partition dataset according to train_proportion\n",
        "  train_indices, val_indices = partition_dataset(len(train_dataset), args.train_proportion)\n",
        "  # create data loaders for train, validation and test datasets\n",
        "  train_loader = torch.utils.data.DataLoader(train_dataset, batch_size=args.batch_size, sampler=SubsetRandomSampler(train_indices))\n",
        "  val_loader = torch.utils.data.DataLoader(train_dataset, batch_size=args.batch_size_val, sampler=SubsetRandomSampler(val_indices))\n",
        "  test_loader = torch.utils.data.DataLoader(test_dataset, batch_size=args.batch_size_val, shuffle=False)\n"
      ]
    },
    {
      "cell_type": "markdown",
      "metadata": {
        "id": "Pt7sEfZWw_U7"
      },
      "source": [
        "## Train Model"
      ]
    },
    {
      "cell_type": "code",
      "execution_count": 6,
      "metadata": {
        "id": "qTncRSCuxFEL"
      },
      "outputs": [
        {
          "ename": "RuntimeError",
          "evalue": "Found no NVIDIA driver on your system. Please check that you have an NVIDIA GPU and installed a driver from http://www.nvidia.com/Download/index.aspx",
          "output_type": "error",
          "traceback": [
            "\u001b[0;31m---------------------------------------------------------------------------\u001b[0m",
            "\u001b[0;31mRuntimeError\u001b[0m                              Traceback (most recent call last)",
            "Cell \u001b[0;32mIn[6], line 2\u001b[0m\n\u001b[1;32m      1\u001b[0m \u001b[38;5;66;03m# Model Initialization\u001b[39;00m\n\u001b[0;32m----> 2\u001b[0m gmvae \u001b[38;5;241m=\u001b[39m \u001b[43mGMVAE\u001b[49m\u001b[43m(\u001b[49m\u001b[43margs\u001b[49m\u001b[43m)\u001b[49m\n",
            "File \u001b[0;32m~/u19/GMVAE/pytorch/model/GMVAE.py:52\u001b[0m, in \u001b[0;36mGMVAE.__init__\u001b[0;34m(self, args)\u001b[0m\n\u001b[1;32m     49\u001b[0m \u001b[38;5;28mself\u001b[39m\u001b[38;5;241m.\u001b[39mmetrics \u001b[38;5;241m=\u001b[39m Metrics()\n\u001b[1;32m     51\u001b[0m \u001b[38;5;28;01mif\u001b[39;00m \u001b[38;5;28mself\u001b[39m\u001b[38;5;241m.\u001b[39mcuda:\n\u001b[0;32m---> 52\u001b[0m   \u001b[38;5;28mself\u001b[39m\u001b[38;5;241m.\u001b[39mnetwork \u001b[38;5;241m=\u001b[39m \u001b[38;5;28;43mself\u001b[39;49m\u001b[38;5;241;43m.\u001b[39;49m\u001b[43mnetwork\u001b[49m\u001b[38;5;241;43m.\u001b[39;49m\u001b[43mcuda\u001b[49m\u001b[43m(\u001b[49m\u001b[43m)\u001b[49m\n",
            "File \u001b[0;32m~/.conda/envs/u19-5/lib/python3.9/site-packages/torch/nn/modules/module.py:911\u001b[0m, in \u001b[0;36mModule.cuda\u001b[0;34m(self, device)\u001b[0m\n\u001b[1;32m    894\u001b[0m \u001b[38;5;28;01mdef\u001b[39;00m \u001b[38;5;21mcuda\u001b[39m(\u001b[38;5;28mself\u001b[39m: T, device: Optional[Union[\u001b[38;5;28mint\u001b[39m, device]] \u001b[38;5;241m=\u001b[39m \u001b[38;5;28;01mNone\u001b[39;00m) \u001b[38;5;241m-\u001b[39m\u001b[38;5;241m>\u001b[39m T:\n\u001b[1;32m    895\u001b[0m \u001b[38;5;250m    \u001b[39m\u001b[38;5;124mr\u001b[39m\u001b[38;5;124;03m\"\"\"Move all model parameters and buffers to the GPU.\u001b[39;00m\n\u001b[1;32m    896\u001b[0m \n\u001b[1;32m    897\u001b[0m \u001b[38;5;124;03m    This also makes associated parameters and buffers different objects. So\u001b[39;00m\n\u001b[0;32m   (...)\u001b[0m\n\u001b[1;32m    909\u001b[0m \u001b[38;5;124;03m        Module: self\u001b[39;00m\n\u001b[1;32m    910\u001b[0m \u001b[38;5;124;03m    \"\"\"\u001b[39;00m\n\u001b[0;32m--> 911\u001b[0m     \u001b[38;5;28;01mreturn\u001b[39;00m \u001b[38;5;28;43mself\u001b[39;49m\u001b[38;5;241;43m.\u001b[39;49m\u001b[43m_apply\u001b[49m\u001b[43m(\u001b[49m\u001b[38;5;28;43;01mlambda\u001b[39;49;00m\u001b[43m \u001b[49m\u001b[43mt\u001b[49m\u001b[43m:\u001b[49m\u001b[43m \u001b[49m\u001b[43mt\u001b[49m\u001b[38;5;241;43m.\u001b[39;49m\u001b[43mcuda\u001b[49m\u001b[43m(\u001b[49m\u001b[43mdevice\u001b[49m\u001b[43m)\u001b[49m\u001b[43m)\u001b[49m\n",
            "File \u001b[0;32m~/.conda/envs/u19-5/lib/python3.9/site-packages/torch/nn/modules/module.py:802\u001b[0m, in \u001b[0;36mModule._apply\u001b[0;34m(self, fn, recurse)\u001b[0m\n\u001b[1;32m    800\u001b[0m \u001b[38;5;28;01mif\u001b[39;00m recurse:\n\u001b[1;32m    801\u001b[0m     \u001b[38;5;28;01mfor\u001b[39;00m module \u001b[38;5;129;01min\u001b[39;00m \u001b[38;5;28mself\u001b[39m\u001b[38;5;241m.\u001b[39mchildren():\n\u001b[0;32m--> 802\u001b[0m         \u001b[43mmodule\u001b[49m\u001b[38;5;241;43m.\u001b[39;49m\u001b[43m_apply\u001b[49m\u001b[43m(\u001b[49m\u001b[43mfn\u001b[49m\u001b[43m)\u001b[49m\n\u001b[1;32m    804\u001b[0m \u001b[38;5;28;01mdef\u001b[39;00m \u001b[38;5;21mcompute_should_use_set_data\u001b[39m(tensor, tensor_applied):\n\u001b[1;32m    805\u001b[0m     \u001b[38;5;28;01mif\u001b[39;00m torch\u001b[38;5;241m.\u001b[39m_has_compatible_shallow_copy_type(tensor, tensor_applied):\n\u001b[1;32m    806\u001b[0m         \u001b[38;5;66;03m# If the new tensor has compatible tensor type as the existing tensor,\u001b[39;00m\n\u001b[1;32m    807\u001b[0m         \u001b[38;5;66;03m# the current behavior is to change the tensor in-place using `.data =`,\u001b[39;00m\n\u001b[0;32m   (...)\u001b[0m\n\u001b[1;32m    812\u001b[0m         \u001b[38;5;66;03m# global flag to let the user control whether they want the future\u001b[39;00m\n\u001b[1;32m    813\u001b[0m         \u001b[38;5;66;03m# behavior of overwriting the existing tensor or not.\u001b[39;00m\n",
            "File \u001b[0;32m~/.conda/envs/u19-5/lib/python3.9/site-packages/torch/nn/modules/module.py:802\u001b[0m, in \u001b[0;36mModule._apply\u001b[0;34m(self, fn, recurse)\u001b[0m\n\u001b[1;32m    800\u001b[0m \u001b[38;5;28;01mif\u001b[39;00m recurse:\n\u001b[1;32m    801\u001b[0m     \u001b[38;5;28;01mfor\u001b[39;00m module \u001b[38;5;129;01min\u001b[39;00m \u001b[38;5;28mself\u001b[39m\u001b[38;5;241m.\u001b[39mchildren():\n\u001b[0;32m--> 802\u001b[0m         \u001b[43mmodule\u001b[49m\u001b[38;5;241;43m.\u001b[39;49m\u001b[43m_apply\u001b[49m\u001b[43m(\u001b[49m\u001b[43mfn\u001b[49m\u001b[43m)\u001b[49m\n\u001b[1;32m    804\u001b[0m \u001b[38;5;28;01mdef\u001b[39;00m \u001b[38;5;21mcompute_should_use_set_data\u001b[39m(tensor, tensor_applied):\n\u001b[1;32m    805\u001b[0m     \u001b[38;5;28;01mif\u001b[39;00m torch\u001b[38;5;241m.\u001b[39m_has_compatible_shallow_copy_type(tensor, tensor_applied):\n\u001b[1;32m    806\u001b[0m         \u001b[38;5;66;03m# If the new tensor has compatible tensor type as the existing tensor,\u001b[39;00m\n\u001b[1;32m    807\u001b[0m         \u001b[38;5;66;03m# the current behavior is to change the tensor in-place using `.data =`,\u001b[39;00m\n\u001b[0;32m   (...)\u001b[0m\n\u001b[1;32m    812\u001b[0m         \u001b[38;5;66;03m# global flag to let the user control whether they want the future\u001b[39;00m\n\u001b[1;32m    813\u001b[0m         \u001b[38;5;66;03m# behavior of overwriting the existing tensor or not.\u001b[39;00m\n",
            "File \u001b[0;32m~/.conda/envs/u19-5/lib/python3.9/site-packages/torch/nn/modules/module.py:802\u001b[0m, in \u001b[0;36mModule._apply\u001b[0;34m(self, fn, recurse)\u001b[0m\n\u001b[1;32m    800\u001b[0m \u001b[38;5;28;01mif\u001b[39;00m recurse:\n\u001b[1;32m    801\u001b[0m     \u001b[38;5;28;01mfor\u001b[39;00m module \u001b[38;5;129;01min\u001b[39;00m \u001b[38;5;28mself\u001b[39m\u001b[38;5;241m.\u001b[39mchildren():\n\u001b[0;32m--> 802\u001b[0m         \u001b[43mmodule\u001b[49m\u001b[38;5;241;43m.\u001b[39;49m\u001b[43m_apply\u001b[49m\u001b[43m(\u001b[49m\u001b[43mfn\u001b[49m\u001b[43m)\u001b[49m\n\u001b[1;32m    804\u001b[0m \u001b[38;5;28;01mdef\u001b[39;00m \u001b[38;5;21mcompute_should_use_set_data\u001b[39m(tensor, tensor_applied):\n\u001b[1;32m    805\u001b[0m     \u001b[38;5;28;01mif\u001b[39;00m torch\u001b[38;5;241m.\u001b[39m_has_compatible_shallow_copy_type(tensor, tensor_applied):\n\u001b[1;32m    806\u001b[0m         \u001b[38;5;66;03m# If the new tensor has compatible tensor type as the existing tensor,\u001b[39;00m\n\u001b[1;32m    807\u001b[0m         \u001b[38;5;66;03m# the current behavior is to change the tensor in-place using `.data =`,\u001b[39;00m\n\u001b[0;32m   (...)\u001b[0m\n\u001b[1;32m    812\u001b[0m         \u001b[38;5;66;03m# global flag to let the user control whether they want the future\u001b[39;00m\n\u001b[1;32m    813\u001b[0m         \u001b[38;5;66;03m# behavior of overwriting the existing tensor or not.\u001b[39;00m\n",
            "File \u001b[0;32m~/.conda/envs/u19-5/lib/python3.9/site-packages/torch/nn/modules/module.py:825\u001b[0m, in \u001b[0;36mModule._apply\u001b[0;34m(self, fn, recurse)\u001b[0m\n\u001b[1;32m    821\u001b[0m \u001b[38;5;66;03m# Tensors stored in modules are graph leaves, and we don't want to\u001b[39;00m\n\u001b[1;32m    822\u001b[0m \u001b[38;5;66;03m# track autograd history of `param_applied`, so we have to use\u001b[39;00m\n\u001b[1;32m    823\u001b[0m \u001b[38;5;66;03m# `with torch.no_grad():`\u001b[39;00m\n\u001b[1;32m    824\u001b[0m \u001b[38;5;28;01mwith\u001b[39;00m torch\u001b[38;5;241m.\u001b[39mno_grad():\n\u001b[0;32m--> 825\u001b[0m     param_applied \u001b[38;5;241m=\u001b[39m \u001b[43mfn\u001b[49m\u001b[43m(\u001b[49m\u001b[43mparam\u001b[49m\u001b[43m)\u001b[49m\n\u001b[1;32m    826\u001b[0m should_use_set_data \u001b[38;5;241m=\u001b[39m compute_should_use_set_data(param, param_applied)\n\u001b[1;32m    827\u001b[0m \u001b[38;5;28;01mif\u001b[39;00m should_use_set_data:\n",
            "File \u001b[0;32m~/.conda/envs/u19-5/lib/python3.9/site-packages/torch/nn/modules/module.py:911\u001b[0m, in \u001b[0;36mModule.cuda.<locals>.<lambda>\u001b[0;34m(t)\u001b[0m\n\u001b[1;32m    894\u001b[0m \u001b[38;5;28;01mdef\u001b[39;00m \u001b[38;5;21mcuda\u001b[39m(\u001b[38;5;28mself\u001b[39m: T, device: Optional[Union[\u001b[38;5;28mint\u001b[39m, device]] \u001b[38;5;241m=\u001b[39m \u001b[38;5;28;01mNone\u001b[39;00m) \u001b[38;5;241m-\u001b[39m\u001b[38;5;241m>\u001b[39m T:\n\u001b[1;32m    895\u001b[0m \u001b[38;5;250m    \u001b[39m\u001b[38;5;124mr\u001b[39m\u001b[38;5;124;03m\"\"\"Move all model parameters and buffers to the GPU.\u001b[39;00m\n\u001b[1;32m    896\u001b[0m \n\u001b[1;32m    897\u001b[0m \u001b[38;5;124;03m    This also makes associated parameters and buffers different objects. So\u001b[39;00m\n\u001b[0;32m   (...)\u001b[0m\n\u001b[1;32m    909\u001b[0m \u001b[38;5;124;03m        Module: self\u001b[39;00m\n\u001b[1;32m    910\u001b[0m \u001b[38;5;124;03m    \"\"\"\u001b[39;00m\n\u001b[0;32m--> 911\u001b[0m     \u001b[38;5;28;01mreturn\u001b[39;00m \u001b[38;5;28mself\u001b[39m\u001b[38;5;241m.\u001b[39m_apply(\u001b[38;5;28;01mlambda\u001b[39;00m t: \u001b[43mt\u001b[49m\u001b[38;5;241;43m.\u001b[39;49m\u001b[43mcuda\u001b[49m\u001b[43m(\u001b[49m\u001b[43mdevice\u001b[49m\u001b[43m)\u001b[49m)\n",
            "File \u001b[0;32m~/.conda/envs/u19-5/lib/python3.9/site-packages/torch/cuda/__init__.py:302\u001b[0m, in \u001b[0;36m_lazy_init\u001b[0;34m()\u001b[0m\n\u001b[1;32m    300\u001b[0m \u001b[38;5;28;01mif\u001b[39;00m \u001b[38;5;124m\"\u001b[39m\u001b[38;5;124mCUDA_MODULE_LOADING\u001b[39m\u001b[38;5;124m\"\u001b[39m \u001b[38;5;129;01mnot\u001b[39;00m \u001b[38;5;129;01min\u001b[39;00m os\u001b[38;5;241m.\u001b[39menviron:\n\u001b[1;32m    301\u001b[0m     os\u001b[38;5;241m.\u001b[39menviron[\u001b[38;5;124m\"\u001b[39m\u001b[38;5;124mCUDA_MODULE_LOADING\u001b[39m\u001b[38;5;124m\"\u001b[39m] \u001b[38;5;241m=\u001b[39m \u001b[38;5;124m\"\u001b[39m\u001b[38;5;124mLAZY\u001b[39m\u001b[38;5;124m\"\u001b[39m\n\u001b[0;32m--> 302\u001b[0m \u001b[43mtorch\u001b[49m\u001b[38;5;241;43m.\u001b[39;49m\u001b[43m_C\u001b[49m\u001b[38;5;241;43m.\u001b[39;49m\u001b[43m_cuda_init\u001b[49m\u001b[43m(\u001b[49m\u001b[43m)\u001b[49m\n\u001b[1;32m    303\u001b[0m \u001b[38;5;66;03m# Some of the queued calls may reentrantly call _lazy_init();\u001b[39;00m\n\u001b[1;32m    304\u001b[0m \u001b[38;5;66;03m# we need to just return without initializing in that case.\u001b[39;00m\n\u001b[1;32m    305\u001b[0m \u001b[38;5;66;03m# However, we must not let any *other* threads in!\u001b[39;00m\n\u001b[1;32m    306\u001b[0m _tls\u001b[38;5;241m.\u001b[39mis_initializing \u001b[38;5;241m=\u001b[39m \u001b[38;5;28;01mTrue\u001b[39;00m\n",
            "\u001b[0;31mRuntimeError\u001b[0m: Found no NVIDIA driver on your system. Please check that you have an NVIDIA GPU and installed a driver from http://www.nvidia.com/Download/index.aspx"
          ]
        }
      ],
      "source": [
        "# Model Initialization\n",
        "gmvae = GMVAE(args)"
      ]
    },
    {
      "cell_type": "code",
      "execution_count": null,
      "metadata": {
        "colab": {
          "base_uri": "https://localhost:8080/",
          "height": 1000
        },
        "id": "dQx-EzIexJFV",
        "outputId": "08a10916-7a0c-45cf-fec2-f1a164c13e70"
      },
      "outputs": [
        {
          "name": "stdout",
          "output_type": "stream",
          "text": [
            "(Epoch 1 / 100) Train_Loss: 174.992; Val_Loss: 146.573   Train_ACC: 40.980; Val_ACC: 58.930   Train_NMI: 27.091; Val_NMI: 55.816\n",
            "(Epoch 2 / 100) Train_Loss: 138.405; Val_Loss: 132.683   Train_ACC: 61.370; Val_ACC: 66.160   Train_NMI: 55.371; Val_NMI: 60.733\n",
            "(Epoch 3 / 100) Train_Loss: 129.808; Val_Loss: 126.542   Train_ACC: 66.562; Val_ACC: 66.560   Train_NMI: 59.240; Val_NMI: 60.493\n",
            "(Epoch 4 / 100) Train_Loss: 125.746; Val_Loss: 123.852   Train_ACC: 69.788; Val_ACC: 70.350   Train_NMI: 61.966; Val_NMI: 64.156\n",
            "(Epoch 5 / 100) Train_Loss: 123.376; Val_Loss: 122.281   Train_ACC: 71.420; Val_ACC: 70.530   Train_NMI: 63.348; Val_NMI: 64.600\n",
            "(Epoch 6 / 100) Train_Loss: 121.723; Val_Loss: 120.762   Train_ACC: 72.378; Val_ACC: 73.560   Train_NMI: 64.301; Val_NMI: 66.836\n",
            "(Epoch 7 / 100) Train_Loss: 120.603; Val_Loss: 120.051   Train_ACC: 73.158; Val_ACC: 74.300   Train_NMI: 65.221; Val_NMI: 67.163\n",
            "(Epoch 8 / 100) Train_Loss: 119.713; Val_Loss: 118.997   Train_ACC: 73.442; Val_ACC: 73.960   Train_NMI: 65.380; Val_NMI: 66.565\n",
            "(Epoch 9 / 100) Train_Loss: 118.979; Val_Loss: 118.464   Train_ACC: 73.873; Val_ACC: 75.040   Train_NMI: 65.854; Val_NMI: 68.204\n",
            "(Epoch 10 / 100) Train_Loss: 118.334; Val_Loss: 118.181   Train_ACC: 74.278; Val_ACC: 74.930   Train_NMI: 66.454; Val_NMI: 68.028\n",
            "(Epoch 11 / 100) Train_Loss: 117.856; Val_Loss: 117.968   Train_ACC: 74.683; Val_ACC: 75.800   Train_NMI: 66.888; Val_NMI: 69.148\n",
            "(Epoch 12 / 100) Train_Loss: 117.361; Val_Loss: 117.462   Train_ACC: 75.470; Val_ACC: 75.890   Train_NMI: 67.816; Val_NMI: 68.952\n",
            "(Epoch 13 / 100) Train_Loss: 116.849; Val_Loss: 116.721   Train_ACC: 76.190; Val_ACC: 76.560   Train_NMI: 68.748; Val_NMI: 69.872\n",
            "(Epoch 14 / 100) Train_Loss: 116.529; Val_Loss: 116.736   Train_ACC: 75.903; Val_ACC: 76.330   Train_NMI: 68.442; Val_NMI: 69.848\n",
            "(Epoch 15 / 100) Train_Loss: 116.176; Val_Loss: 116.502   Train_ACC: 76.378; Val_ACC: 76.690   Train_NMI: 69.063; Val_NMI: 69.977\n",
            "(Epoch 16 / 100) Train_Loss: 115.982; Val_Loss: 116.220   Train_ACC: 76.312; Val_ACC: 75.400   Train_NMI: 69.047; Val_NMI: 68.952\n",
            "(Epoch 17 / 100) Train_Loss: 115.721; Val_Loss: 116.198   Train_ACC: 76.610; Val_ACC: 77.230   Train_NMI: 69.360; Val_NMI: 70.685\n",
            "(Epoch 18 / 100) Train_Loss: 115.477; Val_Loss: 115.969   Train_ACC: 77.177; Val_ACC: 76.650   Train_NMI: 70.157; Val_NMI: 70.846\n",
            "(Epoch 19 / 100) Train_Loss: 115.275; Val_Loss: 115.840   Train_ACC: 77.030; Val_ACC: 77.380   Train_NMI: 70.266; Val_NMI: 70.979\n",
            "(Epoch 20 / 100) Train_Loss: 115.165; Val_Loss: 115.624   Train_ACC: 77.452; Val_ACC: 77.330   Train_NMI: 70.627; Val_NMI: 71.271\n",
            "(Epoch 21 / 100) Train_Loss: 114.944; Val_Loss: 115.479   Train_ACC: 77.752; Val_ACC: 78.350   Train_NMI: 71.268; Val_NMI: 72.626\n",
            "(Epoch 22 / 100) Train_Loss: 114.798; Val_Loss: 115.720   Train_ACC: 77.868; Val_ACC: 78.040   Train_NMI: 71.544; Val_NMI: 72.508\n",
            "(Epoch 23 / 100) Train_Loss: 114.698; Val_Loss: 115.413   Train_ACC: 77.788; Val_ACC: 78.350   Train_NMI: 71.379; Val_NMI: 73.007\n",
            "(Epoch 24 / 100) Train_Loss: 114.520; Val_Loss: 115.608   Train_ACC: 78.353; Val_ACC: 78.140   Train_NMI: 72.282; Val_NMI: 73.256\n",
            "(Epoch 25 / 100) Train_Loss: 114.451; Val_Loss: 115.375   Train_ACC: 78.065; Val_ACC: 78.220   Train_NMI: 71.810; Val_NMI: 72.693\n",
            "(Epoch 26 / 100) Train_Loss: 114.362; Val_Loss: 115.228   Train_ACC: 78.043; Val_ACC: 78.370   Train_NMI: 71.913; Val_NMI: 73.524\n",
            "(Epoch 27 / 100) Train_Loss: 114.295; Val_Loss: 115.778   Train_ACC: 78.272; Val_ACC: 78.420   Train_NMI: 72.128; Val_NMI: 73.149\n",
            "(Epoch 28 / 100) Train_Loss: 114.142; Val_Loss: 115.554   Train_ACC: 78.707; Val_ACC: 79.150   Train_NMI: 72.681; Val_NMI: 73.129\n",
            "(Epoch 29 / 100) Train_Loss: 114.072; Val_Loss: 115.580   Train_ACC: 78.690; Val_ACC: 78.850   Train_NMI: 72.622; Val_NMI: 73.697\n",
            "(Epoch 30 / 100) Train_Loss: 113.964; Val_Loss: 115.109   Train_ACC: 78.823; Val_ACC: 78.390   Train_NMI: 72.887; Val_NMI: 73.043\n",
            "(Epoch 31 / 100) Train_Loss: 113.917; Val_Loss: 115.176   Train_ACC: 78.958; Val_ACC: 78.880   Train_NMI: 73.048; Val_NMI: 73.815\n",
            "(Epoch 32 / 100) Train_Loss: 113.818; Val_Loss: 114.909   Train_ACC: 79.145; Val_ACC: 79.000   Train_NMI: 73.346; Val_NMI: 73.963\n",
            "(Epoch 33 / 100) Train_Loss: 113.730; Val_Loss: 115.042   Train_ACC: 78.995; Val_ACC: 79.010   Train_NMI: 73.239; Val_NMI: 73.842\n",
            "(Epoch 34 / 100) Train_Loss: 113.691; Val_Loss: 115.345   Train_ACC: 79.007; Val_ACC: 79.160   Train_NMI: 73.406; Val_NMI: 74.158\n",
            "(Epoch 35 / 100) Train_Loss: 113.552; Val_Loss: 114.968   Train_ACC: 79.010; Val_ACC: 79.380   Train_NMI: 73.229; Val_NMI: 74.072\n",
            "(Epoch 36 / 100) Train_Loss: 113.506; Val_Loss: 114.689   Train_ACC: 78.883; Val_ACC: 78.710   Train_NMI: 73.278; Val_NMI: 73.345\n",
            "(Epoch 37 / 100) Train_Loss: 113.428; Val_Loss: 114.728   Train_ACC: 79.163; Val_ACC: 79.410   Train_NMI: 73.678; Val_NMI: 74.258\n",
            "(Epoch 38 / 100) Train_Loss: 113.429; Val_Loss: 114.762   Train_ACC: 79.397; Val_ACC: 79.310   Train_NMI: 73.903; Val_NMI: 73.771\n",
            "(Epoch 39 / 100) Train_Loss: 113.309; Val_Loss: 115.161   Train_ACC: 79.465; Val_ACC: 79.650   Train_NMI: 74.118; Val_NMI: 74.419\n",
            "(Epoch 40 / 100) Train_Loss: 113.279; Val_Loss: 114.775   Train_ACC: 79.495; Val_ACC: 79.960   Train_NMI: 74.000; Val_NMI: 75.221\n",
            "(Epoch 41 / 100) Train_Loss: 113.183; Val_Loss: 114.930   Train_ACC: 79.883; Val_ACC: 80.040   Train_NMI: 74.596; Val_NMI: 75.257\n",
            "(Epoch 42 / 100) Train_Loss: 113.177; Val_Loss: 115.228   Train_ACC: 80.135; Val_ACC: 80.030   Train_NMI: 74.768; Val_NMI: 74.964\n",
            "(Epoch 43 / 100) Train_Loss: 113.100; Val_Loss: 114.977   Train_ACC: 79.735; Val_ACC: 79.350   Train_NMI: 74.463; Val_NMI: 74.628\n",
            "(Epoch 44 / 100) Train_Loss: 113.073; Val_Loss: 114.810   Train_ACC: 79.680; Val_ACC: 79.820   Train_NMI: 74.455; Val_NMI: 75.243\n",
            "(Epoch 45 / 100) Train_Loss: 113.050; Val_Loss: 114.815   Train_ACC: 79.690; Val_ACC: 80.430   Train_NMI: 74.486; Val_NMI: 75.856\n",
            "(Epoch 46 / 100) Train_Loss: 112.935; Val_Loss: 114.790   Train_ACC: 79.547; Val_ACC: 80.580   Train_NMI: 74.361; Val_NMI: 75.730\n",
            "(Epoch 47 / 100) Train_Loss: 112.904; Val_Loss: 114.985   Train_ACC: 79.635; Val_ACC: 80.270   Train_NMI: 74.562; Val_NMI: 75.658\n",
            "(Epoch 48 / 100) Train_Loss: 112.909; Val_Loss: 114.835   Train_ACC: 79.887; Val_ACC: 80.090   Train_NMI: 74.628; Val_NMI: 75.332\n",
            "(Epoch 49 / 100) Train_Loss: 112.856; Val_Loss: 114.618   Train_ACC: 79.993; Val_ACC: 80.930   Train_NMI: 75.047; Val_NMI: 76.515\n",
            "(Epoch 50 / 100) Train_Loss: 112.755; Val_Loss: 114.990   Train_ACC: 79.797; Val_ACC: 79.320   Train_NMI: 74.872; Val_NMI: 74.724\n",
            "(Epoch 51 / 100) Train_Loss: 112.762; Val_Loss: 114.688   Train_ACC: 79.783; Val_ACC: 80.020   Train_NMI: 74.857; Val_NMI: 75.204\n",
            "(Epoch 52 / 100) Train_Loss: 112.688; Val_Loss: 114.630   Train_ACC: 80.017; Val_ACC: 80.390   Train_NMI: 75.116; Val_NMI: 76.036\n",
            "(Epoch 53 / 100) Train_Loss: 112.681; Val_Loss: 114.511   Train_ACC: 79.850; Val_ACC: 80.410   Train_NMI: 74.940; Val_NMI: 75.944\n",
            "(Epoch 54 / 100) Train_Loss: 112.639; Val_Loss: 114.888   Train_ACC: 79.780; Val_ACC: 79.740   Train_NMI: 74.941; Val_NMI: 75.716\n",
            "(Epoch 55 / 100) Train_Loss: 112.532; Val_Loss: 114.414   Train_ACC: 79.902; Val_ACC: 80.280   Train_NMI: 75.040; Val_NMI: 75.674\n",
            "(Epoch 56 / 100) Train_Loss: 112.481; Val_Loss: 114.792   Train_ACC: 80.198; Val_ACC: 80.350   Train_NMI: 75.466; Val_NMI: 76.409\n",
            "(Epoch 57 / 100) Train_Loss: 112.528; Val_Loss: 114.225   Train_ACC: 79.773; Val_ACC: 80.380   Train_NMI: 75.187; Val_NMI: 75.573\n",
            "(Epoch 58 / 100) Train_Loss: 112.453; Val_Loss: 114.778   Train_ACC: 80.100; Val_ACC: 80.270   Train_NMI: 75.593; Val_NMI: 76.468\n",
            "(Epoch 59 / 100) Train_Loss: 112.405; Val_Loss: 114.805   Train_ACC: 80.388; Val_ACC: 80.820   Train_NMI: 75.980; Val_NMI: 77.036\n",
            "(Epoch 60 / 100) Train_Loss: 112.375; Val_Loss: 114.644   Train_ACC: 80.047; Val_ACC: 80.030   Train_NMI: 75.383; Val_NMI: 75.977\n",
            "(Epoch 61 / 100) Train_Loss: 112.347; Val_Loss: 114.719   Train_ACC: 80.132; Val_ACC: 80.980   Train_NMI: 75.564; Val_NMI: 76.549\n",
            "(Epoch 62 / 100) Train_Loss: 112.272; Val_Loss: 114.695   Train_ACC: 80.310; Val_ACC: 79.740   Train_NMI: 75.813; Val_NMI: 75.468\n",
            "(Epoch 63 / 100) Train_Loss: 112.247; Val_Loss: 114.490   Train_ACC: 80.323; Val_ACC: 80.350   Train_NMI: 76.003; Val_NMI: 76.046\n",
            "(Epoch 64 / 100) Train_Loss: 112.219; Val_Loss: 114.506   Train_ACC: 80.105; Val_ACC: 80.210   Train_NMI: 75.584; Val_NMI: 75.956\n",
            "(Epoch 65 / 100) Train_Loss: 112.200; Val_Loss: 114.713   Train_ACC: 79.987; Val_ACC: 80.300   Train_NMI: 75.761; Val_NMI: 76.392\n",
            "(Epoch 66 / 100) Train_Loss: 112.157; Val_Loss: 115.026   Train_ACC: 80.098; Val_ACC: 80.640   Train_NMI: 75.910; Val_NMI: 77.116\n",
            "(Epoch 67 / 100) Train_Loss: 112.095; Val_Loss: 114.635   Train_ACC: 80.370; Val_ACC: 80.490   Train_NMI: 75.945; Val_NMI: 76.113\n",
            "(Epoch 68 / 100) Train_Loss: 112.112; Val_Loss: 114.458   Train_ACC: 80.222; Val_ACC: 80.600   Train_NMI: 75.730; Val_NMI: 76.617\n",
            "(Epoch 69 / 100) Train_Loss: 112.076; Val_Loss: 114.630   Train_ACC: 80.250; Val_ACC: 80.290   Train_NMI: 75.866; Val_NMI: 75.845\n",
            "(Epoch 70 / 100) Train_Loss: 112.106; Val_Loss: 114.504   Train_ACC: 80.408; Val_ACC: 81.050   Train_NMI: 75.764; Val_NMI: 77.285\n",
            "(Epoch 71 / 100) Train_Loss: 112.000; Val_Loss: 114.570   Train_ACC: 80.288; Val_ACC: 80.440   Train_NMI: 75.988; Val_NMI: 76.900\n",
            "(Epoch 72 / 100) Train_Loss: 112.012; Val_Loss: 114.664   Train_ACC: 80.137; Val_ACC: 80.730   Train_NMI: 76.096; Val_NMI: 77.300\n",
            "(Epoch 73 / 100) Train_Loss: 111.972; Val_Loss: 114.314   Train_ACC: 80.185; Val_ACC: 80.220   Train_NMI: 75.989; Val_NMI: 76.724\n",
            "(Epoch 74 / 100) Train_Loss: 111.851; Val_Loss: 114.315   Train_ACC: 80.513; Val_ACC: 81.370   Train_NMI: 76.673; Val_NMI: 77.830\n",
            "(Epoch 75 / 100) Train_Loss: 111.918; Val_Loss: 114.427   Train_ACC: 80.373; Val_ACC: 80.670   Train_NMI: 76.417; Val_NMI: 77.569\n",
            "(Epoch 76 / 100) Train_Loss: 111.877; Val_Loss: 114.521   Train_ACC: 80.177; Val_ACC: 80.940   Train_NMI: 76.263; Val_NMI: 77.385\n",
            "(Epoch 77 / 100) Train_Loss: 111.809; Val_Loss: 114.495   Train_ACC: 80.495; Val_ACC: 80.450   Train_NMI: 76.531; Val_NMI: 77.099\n",
            "(Epoch 78 / 100) Train_Loss: 111.845; Val_Loss: 114.716   Train_ACC: 80.798; Val_ACC: 81.190   Train_NMI: 76.997; Val_NMI: 78.057\n",
            "(Epoch 79 / 100) Train_Loss: 111.840; Val_Loss: 114.687   Train_ACC: 80.560; Val_ACC: 81.310   Train_NMI: 76.608; Val_NMI: 77.717\n",
            "(Epoch 80 / 100) Train_Loss: 111.743; Val_Loss: 114.798   Train_ACC: 80.367; Val_ACC: 81.150   Train_NMI: 76.580; Val_NMI: 78.201\n",
            "(Epoch 81 / 100) Train_Loss: 111.741; Val_Loss: 114.736   Train_ACC: 80.702; Val_ACC: 80.950   Train_NMI: 76.722; Val_NMI: 77.207\n",
            "(Epoch 82 / 100) Train_Loss: 111.698; Val_Loss: 114.537   Train_ACC: 80.487; Val_ACC: 81.290   Train_NMI: 76.534; Val_NMI: 77.658\n",
            "(Epoch 83 / 100) Train_Loss: 111.732; Val_Loss: 114.533   Train_ACC: 80.662; Val_ACC: 80.910   Train_NMI: 76.992; Val_NMI: 77.325\n",
            "(Epoch 84 / 100) Train_Loss: 111.673; Val_Loss: 114.241   Train_ACC: 80.452; Val_ACC: 80.600   Train_NMI: 76.537; Val_NMI: 76.434\n",
            "(Epoch 85 / 100) Train_Loss: 111.704; Val_Loss: 114.503   Train_ACC: 80.812; Val_ACC: 81.620   Train_NMI: 76.947; Val_NMI: 78.234\n",
            "(Epoch 86 / 100) Train_Loss: 111.610; Val_Loss: 114.208   Train_ACC: 80.770; Val_ACC: 80.820   Train_NMI: 77.322; Val_NMI: 77.407\n",
            "(Epoch 87 / 100) Train_Loss: 111.611; Val_Loss: 114.334   Train_ACC: 80.637; Val_ACC: 80.740   Train_NMI: 77.325; Val_NMI: 77.478\n",
            "(Epoch 88 / 100) Train_Loss: 111.566; Val_Loss: 114.576   Train_ACC: 80.915; Val_ACC: 81.710   Train_NMI: 77.252; Val_NMI: 78.485\n",
            "(Epoch 89 / 100) Train_Loss: 111.537; Val_Loss: 114.735   Train_ACC: 80.987; Val_ACC: 81.590   Train_NMI: 77.344; Val_NMI: 77.645\n",
            "(Epoch 90 / 100) Train_Loss: 111.519; Val_Loss: 114.533   Train_ACC: 80.957; Val_ACC: 81.140   Train_NMI: 77.442; Val_NMI: 77.648\n",
            "(Epoch 91 / 100) Train_Loss: 111.474; Val_Loss: 114.520   Train_ACC: 80.570; Val_ACC: 81.070   Train_NMI: 76.936; Val_NMI: 77.308\n",
            "(Epoch 92 / 100) Train_Loss: 111.503; Val_Loss: 114.443   Train_ACC: 80.785; Val_ACC: 80.760   Train_NMI: 77.313; Val_NMI: 77.626\n",
            "(Epoch 93 / 100) Train_Loss: 111.454; Val_Loss: 114.707   Train_ACC: 80.767; Val_ACC: 81.110   Train_NMI: 77.295; Val_NMI: 77.051\n",
            "(Epoch 94 / 100) Train_Loss: 111.438; Val_Loss: 114.335   Train_ACC: 80.937; Val_ACC: 80.920   Train_NMI: 77.609; Val_NMI: 77.516\n",
            "(Epoch 95 / 100) Train_Loss: 111.457; Val_Loss: 114.679   Train_ACC: 80.900; Val_ACC: 81.640   Train_NMI: 77.569; Val_NMI: 78.414\n",
            "(Epoch 96 / 100) Train_Loss: 111.438; Val_Loss: 114.107   Train_ACC: 80.900; Val_ACC: 81.530   Train_NMI: 77.549; Val_NMI: 78.133\n",
            "(Epoch 97 / 100) Train_Loss: 111.398; Val_Loss: 114.171   Train_ACC: 81.160; Val_ACC: 81.710   Train_NMI: 77.758; Val_NMI: 77.685\n",
            "(Epoch 98 / 100) Train_Loss: 111.408; Val_Loss: 114.454   Train_ACC: 81.093; Val_ACC: 82.190   Train_NMI: 77.645; Val_NMI: 78.763\n",
            "(Epoch 99 / 100) Train_Loss: 111.359; Val_Loss: 114.368   Train_ACC: 80.998; Val_ACC: 81.960   Train_NMI: 77.711; Val_NMI: 78.594\n",
            "(Epoch 100 / 100) Train_Loss: 111.344; Val_Loss: 114.577   Train_ACC: 81.058; Val_ACC: 81.910   Train_NMI: 77.513; Val_NMI: 78.143\n"
          ]
        }
      ],
      "source": [
        "# Training Phase\n",
        "history_loss = gmvae.train(train_loader, val_loader)"
      ]
    },
    {
      "cell_type": "markdown",
      "metadata": {
        "id": "CimQtyl1foCj"
      },
      "source": [
        "## Test Data"
      ]
    },
    {
      "cell_type": "code",
      "execution_count": null,
      "metadata": {
        "colab": {
          "base_uri": "https://localhost:8080/",
          "height": 52
        },
        "id": "rs2-BLGkfp8m",
        "outputId": "e908f506-815f-4332-9522-f34c73c9cc05"
      },
      "outputs": [
        {
          "name": "stdout",
          "output_type": "stream",
          "text": [
            "Testing phase...\n",
            "Accuracy: 81.91000,  NMI: 78.14320\n"
          ]
        }
      ],
      "source": [
        "accuracy, nmi = gmvae.test(test_loader)\n",
        "\n",
        "print(\"Testing phase...\")\n",
        "print(\"Accuracy: %.5lf,  NMI: %.5lf\" % (accuracy, nmi) )"
      ]
    },
    {
      "cell_type": "markdown",
      "metadata": {
        "id": "-SbXR7FkhIcq"
      },
      "source": [
        "## Visualization of the feature latent space"
      ]
    },
    {
      "cell_type": "code",
      "execution_count": null,
      "metadata": {
        "id": "bTkEBA9JhQ2C"
      },
      "outputs": [],
      "source": [
        "# get feature representations\n",
        "test_features, test_labels = gmvae.latent_features(test_loader, True)"
      ]
    },
    {
      "cell_type": "code",
      "execution_count": null,
      "metadata": {
        "id": "LNmsz5rahZAY"
      },
      "outputs": [],
      "source": [
        "# import TSNE from scikit-learn library\n",
        "from sklearn.manifold import TSNE\n",
        "\n",
        "# reduce dimensionality to 2D, we consider a subset of data because TSNE\n",
        "# is a slow algorithm\n",
        "tsne_features = TSNE(n_components=2).fit_transform(test_features[:1000,])"
      ]
    },
    {
      "cell_type": "code",
      "execution_count": null,
      "metadata": {
        "colab": {
          "base_uri": "https://localhost:8080/",
          "height": 395
        },
        "id": "wyTtDdwyha-L",
        "outputId": "350e806a-6dd3-47f2-bd91-444aaf61b3dd"
      },
      "outputs": [
        {
          "data": {
            "text/plain": [
              "<matplotlib.colorbar.Colorbar at 0x7fb6e3f27160>"
            ]
          },
          "execution_count": 19,
          "metadata": {
            "tags": []
          },
          "output_type": "execute_result"
        },
        {
          "data": {
            "image/png": "[encoded data removed]",
            "text/plain": [
              "<Figure size 720x432 with 2 Axes>"
            ]
          },
          "metadata": {
            "tags": []
          },
          "output_type": "display_data"
        }
      ],
      "source": [
        "fig = plt.figure(figsize=(10, 6))\n",
        "\n",
        "plt.scatter(tsne_features[:, 0], tsne_features[:, 1], c=test_labels[:tsne_features.shape[0]], marker='o',\n",
        "            edgecolor='none', cmap=plt.cm.get_cmap('jet', 10), s = 10)\n",
        "plt.grid(False)\n",
        "plt.axis('off')\n",
        "plt.colorbar()"
      ]
    }
  ],
  "metadata": {
    "accelerator": "GPU",
    "colab": {
      "provenance": []
    },
    "kernelspec": {
      "display_name": "Python 3",
      "name": "python3"
    },
    "language_info": {
      "codemirror_mode": {
        "name": "ipython",
        "version": 3
      },
      "file_extension": ".py",
      "mimetype": "text/x-python",
      "name": "python",
      "nbconvert_exporter": "python",
      "pygments_lexer": "ipython3",
      "version": "3.9.18"
    }
  },
  "nbformat": 4,
  "nbformat_minor": 0
}
